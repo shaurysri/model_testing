{
 "cells": [
  {
   "cell_type": "code",
   "execution_count": null,
   "metadata": {},
   "outputs": [],
   "source": [
    "import warnings\n",
    "\n",
    "from transformers import BertTokenizer\n",
    "from transformers import BertForSequenceClassification\n",
    "import torch\n",
    "from transformers import logging\n",
    "logging.set_verbosity_error()\n",
    "\n",
    "warnings.filterwarnings(\"ignore\")\n",
    "\n",
    "\n",
    "class hate_Classifier():\n",
    "    def __init__(self):\n",
    "        #load the tokenizer\n",
    "        self.tokenizer = BertTokenizer.from_pretrained('bert-base-uncased', do_lower_case=True)\n",
    "        self.label_dict = {'neither': 2, 'offensive_language': 1, 'hate_speech': 0}\n",
    "        #initalize the model:\n",
    "        self.model = BertForSequenceClassification.from_pretrained('bert-base-uncased',num_labels = len(self.label_dict),\n",
    "        output_attentions=False,output_hidden_states=False)\n",
    "        #set the device:\n",
    "        #load the model:\n",
    "        #self.model.load_state_dict(torch.load('./model/finetuned_BERT.model', map_location=torch.device(device)))\n",
    "\n",
    "\n",
    "    def get_encoding(self,text:str):\n",
    "        #tokenize the text and return the encoding\n",
    "        encoded=self.tokenizer.batch_encode_plus(text,add_special_tokens=True,\n",
    "        return_attention_mask=True,pad_to_max_length=True,max_length=256)\n",
    "        return encoded\n",
    "    \n",
    "    def predict(self,text:str):\n",
    "        #convert the text to encoding:\n",
    "        encoded=self.get_encoding(text)\n",
    "        #structuring the input to the required format:\n",
    "        input={\n",
    "        'input_ids': torch.tensor(encoded[\"input_ids\"],dtype =torch.long),\n",
    "        'attention_mask': torch.tensor(encoded[\"attention_mask\"],dtype=torch.long)\n",
    "        }\n",
    "        # predict the text:\n",
    "        y=self.model(**input)\n",
    "\n",
    "        logits = y['logits']\n",
    "        #logits = logits.detach().cpu().numpy()\n",
    "        output_class=self.map_output(logits)\n",
    "        return output_class\n",
    "\n",
    "    def map_output(self,x:torch.tensor):\n",
    "        # post process the prediction and map the output the String word classes:\n",
    "        y=torch.max(x,axis=1)\n",
    "        for key, value in self.label_dict.items():\n",
    "            if value == y:\n",
    "                return key\n",
    "\n",
    "    def predict_batch(self,texts:list)-> list:\n",
    "        result=[]\n",
    "        for text in texts:\n",
    "            print(\"Text:\",text)\n",
    "            result.append({'id':text['id'],'result':self.predict(text['text'])})\n",
    "            print(result)\n",
    "        return result"
   ]
  },
  {
   "cell_type": "code",
   "execution_count": null,
   "metadata": {},
   "outputs": [],
   "source": [
    "model = hate_Classifier()"
   ]
  },
  {
   "cell_type": "code",
   "execution_count": null,
   "metadata": {},
   "outputs": [],
   "source": [
    "import pandas as pd \n",
    "import numpy as np\n",
    "import re"
   ]
  },
  {
   "cell_type": "code",
   "execution_count": null,
   "metadata": {},
   "outputs": [],
   "source": [
    "dataset_path = './hate_speech_dataset.csv'"
   ]
  },
  {
   "cell_type": "code",
   "execution_count": null,
   "metadata": {},
   "outputs": [],
   "source": [
    "df = pd.read_csv(dataset_path,index_col='Unnamed: 0')\n",
    "df.head()"
   ]
  },
  {
   "cell_type": "code",
   "execution_count": null,
   "metadata": {},
   "outputs": [],
   "source": [
    "def preprocessing(x):\n",
    "    x = x.replace(\"\\n\",\" \")\n",
    "    return ' '.join(re.sub(\"(@[A-Za-z0-9]+)|(#[A-Za-z0-9]+)|([^0-9A-Za-z,. \\t])|(\\w+:\\/\\/\\S+)\",\" \",x).split())"
   ]
  },
  {
   "cell_type": "code",
   "execution_count": null,
   "metadata": {},
   "outputs": [],
   "source": [
    "df['text'] = df['tweet'].map(preprocessing)"
   ]
  },
  {
   "cell_type": "code",
   "execution_count": null,
   "metadata": {},
   "outputs": [],
   "source": [
    "df['text']"
   ]
  },
  {
   "cell_type": "code",
   "execution_count": null,
   "metadata": {},
   "outputs": [],
   "source": [
    "model.predict(df['text'][0])"
   ]
  },
  {
   "cell_type": "code",
   "execution_count": null,
   "metadata": {},
   "outputs": [],
   "source": []
  },
  {
   "cell_type": "code",
   "execution_count": null,
   "metadata": {},
   "outputs": [],
   "source": []
  },
  {
   "cell_type": "code",
   "execution_count": null,
   "metadata": {},
   "outputs": [],
   "source": []
  },
  {
   "cell_type": "code",
   "execution_count": null,
   "metadata": {},
   "outputs": [],
   "source": []
  },
  {
   "cell_type": "code",
   "execution_count": null,
   "metadata": {},
   "outputs": [],
   "source": []
  }
 ],
 "metadata": {
  "kernelspec": {
   "display_name": "Python 3",
   "language": "python",
   "name": "python3"
  },
  "language_info": {
   "codemirror_mode": {
    "name": "ipython",
    "version": 3
   },
   "file_extension": ".py",
   "mimetype": "text/x-python",
   "name": "python",
   "nbconvert_exporter": "python",
   "pygments_lexer": "ipython3",
   "version": "3.8.10"
  }
 },
 "nbformat": 4,
 "nbformat_minor": 4
}
