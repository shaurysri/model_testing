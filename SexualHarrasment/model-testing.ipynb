{
 "cells": [
  {
   "cell_type": "code",
   "execution_count": 1,
   "metadata": {},
   "outputs": [],
   "source": [
    "from AbusiveLanguageDetection.CheckForAbusiveWords import *\n",
    "from SwearingDetection.CheckForSwearWords import *\n",
    "from TabooWordDetection.CheckForTabooWords import *\n",
    "\n",
    "'''Global paths and parameters'''\n",
    "swear_words_file = \"SwearingDetection/common/swear_words.txt\"\n",
    "swear_words_pos_file = \"SwearingDetection/common/swear_words_pos.txt\"\n",
    "taboo_words_file = \"TabooWordDetection/common/taboo_words.json\"\n",
    "\n",
    "LEXICAL_THRESHOLD = 30\n",
    "TYPE_SCORE = 3\n",
    "\n",
    "\n",
    "class DetectSexualHarassment():\n",
    "\n",
    "    def __init__(self):\n",
    "        self.model = DetectSexualHarassment\n",
    "\n",
    "    def get_swearing_score(self, text):\n",
    "        swear_words_pos = read_txt_list(swear_words_pos_file)\n",
    "        swear_words = read_txt_list(swear_words_file)\n",
    "        is_swearing_text, is_swearing_pos = check_swearing(text, swear_words_pos, swear_words)\n",
    "        return get_swear_scores(is_swearing_text, is_swearing_pos)\n",
    "\n",
    "    def get_taboo_score(self, text):\n",
    "        taboo_words = read_json_file(taboo_words_file)\n",
    "        df = create_df(taboo_words)\n",
    "        taboo_words_pos, taboo_words = get_possible_nlp(df)\n",
    "        is_taboo_text, is_taboo_pos = check_taboowords(text, taboo_words_pos, taboo_words)\n",
    "        return get_taboo_scores(is_taboo_text, is_taboo_pos)\n",
    "\n",
    "    def get_abusive_score(self, text):\n",
    "        abuse_words = read_txt_list(swear_words_file)\n",
    "        abusive_text = fetch_abusive_text(text, abuse_words)\n",
    "        is_abusive_text = is_abusive(text, abusive_text)\n",
    "        return get_abusive_scores(is_abusive_text)\n",
    "\n",
    "    def collect_all_scores(self, text):\n",
    "        lexical_score, type_score = 0, 0\n",
    "        all_scores = [self.model.get_taboo_score(self, text),\n",
    "                      self.model.get_swearing_score(self, text),\n",
    "                      self.model.get_abusive_score(self, text)]\n",
    "        for scores in all_scores:\n",
    "            lexical_score = lexical_score + scores[0]\n",
    "            type_score = type_score + scores[1]\n",
    "        return lexical_score, type_score\n",
    "\n",
    "    def check_sh_label(self, TL, TT):\n",
    "        label = False\n",
    "        if TL >= LEXICAL_THRESHOLD and TT >= TYPE_SCORE:\n",
    "            label = True\n",
    "        elif TL > LEXICAL_THRESHOLD and TT < TYPE_SCORE:\n",
    "            label = False\n",
    "        elif TL < LEXICAL_THRESHOLD and TT > TYPE_SCORE:\n",
    "            label = False\n",
    "        return label\n",
    "\n",
    "    def detect_sexual_harassment(self, text):\n",
    "        sexual_harassment = False\n",
    "        if type(text) == str:\n",
    "            TL, TT = self.model.collect_all_scores(self, text)\n",
    "            sexual_harassment = self.model.check_sh_label(self, TL, TT)\n",
    "        if type(text) == list:\n",
    "            TL, TT = 0, 0\n",
    "            for t in text:\n",
    "                tl, tt = self.model.collect_all_scores(self, t)\n",
    "                TL = TL + tl\n",
    "                TT = TT + tt\n",
    "            sexual_harassment = self.model.check_sh_label(self, TL, TT)\n",
    "        return sexual_harassment"
   ]
  },
  {
   "cell_type": "code",
   "execution_count": 2,
   "metadata": {},
   "outputs": [
    {
     "name": "stdout",
     "output_type": "stream",
     "text": [
      "False\n",
      "True\n"
     ]
    }
   ],
   "source": [
    "model = DetectSexualHarassment()\n",
    "print(model.detect_sexual_harassment(\"You are such a pig\"))\n",
    "print(model.detect_sexual_harassment([\"I don't give a fucking shit.\", \" Go to hell you motherfucker\"]))"
   ]
  },
  {
   "cell_type": "code",
   "execution_count": 3,
   "metadata": {},
   "outputs": [],
   "source": [
    "import pandas as pd\n",
    "import numpy as np"
   ]
  },
  {
   "cell_type": "code",
   "execution_count": 4,
   "metadata": {},
   "outputs": [],
   "source": [
    "df = pd.read_csv('./classified_tweets.csv')"
   ]
  },
  {
   "cell_type": "markdown",
   "metadata": {},
   "source": [
    "\n",
    "    text = Tweets\n",
    "    suspicious = 1 if suspicious and 0 if otherwise\n",
    "    cyberbullying = 1 for racism, 2 for sexism and 0 if neither\n",
    "    hate = 1 for hate text and 0 if otherwise\n",
    "    suicidal = 1 for text with suicidal intent and 0 if otherwise\n"
   ]
  },
  {
   "cell_type": "code",
   "execution_count": 5,
   "metadata": {},
   "outputs": [
    {
     "data": {
      "text/html": [
       "<div>\n",
       "<style scoped>\n",
       "    .dataframe tbody tr th:only-of-type {\n",
       "        vertical-align: middle;\n",
       "    }\n",
       "\n",
       "    .dataframe tbody tr th {\n",
       "        vertical-align: top;\n",
       "    }\n",
       "\n",
       "    .dataframe thead th {\n",
       "        text-align: right;\n",
       "    }\n",
       "</style>\n",
       "<table border=\"1\" class=\"dataframe\">\n",
       "  <thead>\n",
       "    <tr style=\"text-align: right;\">\n",
       "      <th></th>\n",
       "      <th>text</th>\n",
       "      <th>suspicious</th>\n",
       "      <th>cyberbullying</th>\n",
       "      <th>hate</th>\n",
       "      <th>suicidal</th>\n",
       "    </tr>\n",
       "  </thead>\n",
       "  <tbody>\n",
       "    <tr>\n",
       "      <th>0</th>\n",
       "      <td>Uhmm like 6th grade on a corner of a street....</td>\n",
       "      <td>0</td>\n",
       "      <td>0</td>\n",
       "      <td>0</td>\n",
       "      <td>0</td>\n",
       "    </tr>\n",
       "    <tr>\n",
       "      <th>1</th>\n",
       "      <td>a) JTP is a douchebag b) Stewart kicks ass!</td>\n",
       "      <td>1</td>\n",
       "      <td>0</td>\n",
       "      <td>0</td>\n",
       "      <td>0</td>\n",
       "    </tr>\n",
       "    <tr>\n",
       "      <th>2</th>\n",
       "      <td>ditto bitch!</td>\n",
       "      <td>1</td>\n",
       "      <td>0</td>\n",
       "      <td>0</td>\n",
       "      <td>0</td>\n",
       "    </tr>\n",
       "    <tr>\n",
       "      <th>3</th>\n",
       "      <td>damn I have to drive my dad to the airport tha...</td>\n",
       "      <td>0</td>\n",
       "      <td>0</td>\n",
       "      <td>0</td>\n",
       "      <td>0</td>\n",
       "    </tr>\n",
       "    <tr>\n",
       "      <th>4</th>\n",
       "      <td>:]</td>\n",
       "      <td>0</td>\n",
       "      <td>0</td>\n",
       "      <td>0</td>\n",
       "      <td>0</td>\n",
       "    </tr>\n",
       "  </tbody>\n",
       "</table>\n",
       "</div>"
      ],
      "text/plain": [
       "                                                text  suspicious  \\\n",
       "0    Uhmm like 6th grade on a corner of a street....           0   \n",
       "1        a) JTP is a douchebag b) Stewart kicks ass!           1   \n",
       "2                                       ditto bitch!           1   \n",
       "3  damn I have to drive my dad to the airport tha...           0   \n",
       "4                                                 :]           0   \n",
       "\n",
       "   cyberbullying  hate  suicidal  \n",
       "0              0     0         0  \n",
       "1              0     0         0  \n",
       "2              0     0         0  \n",
       "3              0     0         0  \n",
       "4              0     0         0  "
      ]
     },
     "execution_count": 5,
     "metadata": {},
     "output_type": "execute_result"
    }
   ],
   "source": [
    "df.head()"
   ]
  },
  {
   "cell_type": "code",
   "execution_count": 7,
   "metadata": {},
   "outputs": [
    {
     "data": {
      "text/html": [
       "<div>\n",
       "<style scoped>\n",
       "    .dataframe tbody tr th:only-of-type {\n",
       "        vertical-align: middle;\n",
       "    }\n",
       "\n",
       "    .dataframe tbody tr th {\n",
       "        vertical-align: top;\n",
       "    }\n",
       "\n",
       "    .dataframe thead th {\n",
       "        text-align: right;\n",
       "    }\n",
       "</style>\n",
       "<table border=\"1\" class=\"dataframe\">\n",
       "  <thead>\n",
       "    <tr style=\"text-align: right;\">\n",
       "      <th></th>\n",
       "      <th>text</th>\n",
       "      <th>suspicious</th>\n",
       "      <th>cyberbullying</th>\n",
       "      <th>hate</th>\n",
       "      <th>suicidal</th>\n",
       "    </tr>\n",
       "  </thead>\n",
       "  <tbody>\n",
       "    <tr>\n",
       "      <th>0</th>\n",
       "      <td>Uhmm like 6th grade on a corner of a street....</td>\n",
       "      <td>0</td>\n",
       "      <td>0</td>\n",
       "      <td>0</td>\n",
       "      <td>0</td>\n",
       "    </tr>\n",
       "    <tr>\n",
       "      <th>1</th>\n",
       "      <td>a) JTP is a douchebag b) Stewart kicks ass!</td>\n",
       "      <td>1</td>\n",
       "      <td>0</td>\n",
       "      <td>0</td>\n",
       "      <td>0</td>\n",
       "    </tr>\n",
       "    <tr>\n",
       "      <th>2</th>\n",
       "      <td>ditto bitch!</td>\n",
       "      <td>1</td>\n",
       "      <td>0</td>\n",
       "      <td>0</td>\n",
       "      <td>0</td>\n",
       "    </tr>\n",
       "    <tr>\n",
       "      <th>3</th>\n",
       "      <td>damn I have to drive my dad to the airport tha...</td>\n",
       "      <td>0</td>\n",
       "      <td>0</td>\n",
       "      <td>0</td>\n",
       "      <td>0</td>\n",
       "    </tr>\n",
       "    <tr>\n",
       "      <th>4</th>\n",
       "      <td>:]</td>\n",
       "      <td>0</td>\n",
       "      <td>0</td>\n",
       "      <td>0</td>\n",
       "      <td>0</td>\n",
       "    </tr>\n",
       "    <tr>\n",
       "      <th>...</th>\n",
       "      <td>...</td>\n",
       "      <td>...</td>\n",
       "      <td>...</td>\n",
       "      <td>...</td>\n",
       "      <td>...</td>\n",
       "    </tr>\n",
       "    <tr>\n",
       "      <th>19929</th>\n",
       "      <td>Happy birthday @paul_lander!</td>\n",
       "      <td>0</td>\n",
       "      <td>0</td>\n",
       "      <td>0</td>\n",
       "      <td>0</td>\n",
       "    </tr>\n",
       "    <tr>\n",
       "      <th>19930</th>\n",
       "      <td>RT @MilradJalen: @raesanni I agree it’s awful ...</td>\n",
       "      <td>1</td>\n",
       "      <td>0</td>\n",
       "      <td>0</td>\n",
       "      <td>0</td>\n",
       "    </tr>\n",
       "    <tr>\n",
       "      <th>19931</th>\n",
       "      <td>I was called in yesterday at the Guidance Coun...</td>\n",
       "      <td>1</td>\n",
       "      <td>0</td>\n",
       "      <td>0</td>\n",
       "      <td>0</td>\n",
       "    </tr>\n",
       "    <tr>\n",
       "      <th>19932</th>\n",
       "      <td>@Jeicky_the_cat @skwi69 Thanks</td>\n",
       "      <td>0</td>\n",
       "      <td>0</td>\n",
       "      <td>0</td>\n",
       "      <td>0</td>\n",
       "    </tr>\n",
       "    <tr>\n",
       "      <th>19933</th>\n",
       "      <td>thinks she found a good group to help her refocus</td>\n",
       "      <td>0</td>\n",
       "      <td>0</td>\n",
       "      <td>0</td>\n",
       "      <td>0</td>\n",
       "    </tr>\n",
       "  </tbody>\n",
       "</table>\n",
       "<p>18989 rows × 5 columns</p>\n",
       "</div>"
      ],
      "text/plain": [
       "                                                    text  suspicious  \\\n",
       "0        Uhmm like 6th grade on a corner of a street....           0   \n",
       "1            a) JTP is a douchebag b) Stewart kicks ass!           1   \n",
       "2                                           ditto bitch!           1   \n",
       "3      damn I have to drive my dad to the airport tha...           0   \n",
       "4                                                     :]           0   \n",
       "...                                                  ...         ...   \n",
       "19929                       Happy birthday @paul_lander!           0   \n",
       "19930  RT @MilradJalen: @raesanni I agree it’s awful ...           1   \n",
       "19931  I was called in yesterday at the Guidance Coun...           1   \n",
       "19932                     @Jeicky_the_cat @skwi69 Thanks           0   \n",
       "19933  thinks she found a good group to help her refocus           0   \n",
       "\n",
       "       cyberbullying  hate  suicidal  \n",
       "0                  0     0         0  \n",
       "1                  0     0         0  \n",
       "2                  0     0         0  \n",
       "3                  0     0         0  \n",
       "4                  0     0         0  \n",
       "...              ...   ...       ...  \n",
       "19929              0     0         0  \n",
       "19930              0     0         0  \n",
       "19931              0     0         0  \n",
       "19932              0     0         0  \n",
       "19933              0     0         0  \n",
       "\n",
       "[18989 rows x 5 columns]"
      ]
     },
     "execution_count": 7,
     "metadata": {},
     "output_type": "execute_result"
    }
   ],
   "source": [
    "df[(df['cyberbullying']==2)|(df['cyberbullying']==0)]"
   ]
  },
  {
   "cell_type": "code",
   "execution_count": 9,
   "metadata": {},
   "outputs": [],
   "source": [
    "df = df[['text','cyberbullying']]"
   ]
  },
  {
   "cell_type": "code",
   "execution_count": 10,
   "metadata": {},
   "outputs": [
    {
     "data": {
      "text/html": [
       "<div>\n",
       "<style scoped>\n",
       "    .dataframe tbody tr th:only-of-type {\n",
       "        vertical-align: middle;\n",
       "    }\n",
       "\n",
       "    .dataframe tbody tr th {\n",
       "        vertical-align: top;\n",
       "    }\n",
       "\n",
       "    .dataframe thead th {\n",
       "        text-align: right;\n",
       "    }\n",
       "</style>\n",
       "<table border=\"1\" class=\"dataframe\">\n",
       "  <thead>\n",
       "    <tr style=\"text-align: right;\">\n",
       "      <th></th>\n",
       "      <th>text</th>\n",
       "      <th>cyberbullying</th>\n",
       "    </tr>\n",
       "  </thead>\n",
       "  <tbody>\n",
       "    <tr>\n",
       "      <th>0</th>\n",
       "      <td>Uhmm like 6th grade on a corner of a street....</td>\n",
       "      <td>0</td>\n",
       "    </tr>\n",
       "    <tr>\n",
       "      <th>1</th>\n",
       "      <td>a) JTP is a douchebag b) Stewart kicks ass!</td>\n",
       "      <td>0</td>\n",
       "    </tr>\n",
       "    <tr>\n",
       "      <th>2</th>\n",
       "      <td>ditto bitch!</td>\n",
       "      <td>0</td>\n",
       "    </tr>\n",
       "    <tr>\n",
       "      <th>3</th>\n",
       "      <td>damn I have to drive my dad to the airport tha...</td>\n",
       "      <td>0</td>\n",
       "    </tr>\n",
       "    <tr>\n",
       "      <th>4</th>\n",
       "      <td>:]</td>\n",
       "      <td>0</td>\n",
       "    </tr>\n",
       "  </tbody>\n",
       "</table>\n",
       "</div>"
      ],
      "text/plain": [
       "                                                text  cyberbullying\n",
       "0    Uhmm like 6th grade on a corner of a street....              0\n",
       "1        a) JTP is a douchebag b) Stewart kicks ass!              0\n",
       "2                                       ditto bitch!              0\n",
       "3  damn I have to drive my dad to the airport tha...              0\n",
       "4                                                 :]              0"
      ]
     },
     "execution_count": 10,
     "metadata": {},
     "output_type": "execute_result"
    }
   ],
   "source": [
    "df.head()"
   ]
  },
  {
   "cell_type": "code",
   "execution_count": null,
   "metadata": {},
   "outputs": [],
   "source": [
    "df['cyberbullying'] = df['cyberbullying'].map(lambda x : True if (x>0) else False)\n",
    "df.columns = ['text','target']"
   ]
  },
  {
   "cell_type": "code",
   "execution_count": 13,
   "metadata": {},
   "outputs": [
    {
     "data": {
      "text/plain": [
       "False    17256\n",
       "True      2678\n",
       "Name: target, dtype: int64"
      ]
     },
     "execution_count": 13,
     "metadata": {},
     "output_type": "execute_result"
    }
   ],
   "source": [
    "df['target'].value_counts()"
   ]
  },
  {
   "cell_type": "code",
   "execution_count": 14,
   "metadata": {},
   "outputs": [],
   "source": [
    "import nltk"
   ]
  },
  {
   "cell_type": "code",
   "execution_count": 15,
   "metadata": {},
   "outputs": [],
   "source": [
    "ps = nltk.tokenize.PunktSentenceTokenizer()"
   ]
  },
  {
   "cell_type": "code",
   "execution_count": 18,
   "metadata": {},
   "outputs": [],
   "source": [
    "pred = []\n",
    "for text in df['text'].values:\n",
    "    Text = ps.tokenize(text)\n",
    "    test = model.detect_sexual_harassment(Text)\n",
    "    pred.append(test)"
   ]
  },
  {
   "cell_type": "code",
   "execution_count": 19,
   "metadata": {},
   "outputs": [],
   "source": [
    "from sklearn.metrics import classification_report,confusion_matrix"
   ]
  },
  {
   "cell_type": "code",
   "execution_count": 20,
   "metadata": {},
   "outputs": [
    {
     "name": "stdout",
     "output_type": "stream",
     "text": [
      "              precision    recall  f1-score   support\n",
      "\n",
      "       False       0.86      0.71      0.78     17256\n",
      "        True       0.12      0.26      0.17      2678\n",
      "\n",
      "    accuracy                           0.65     19934\n",
      "   macro avg       0.49      0.48      0.47     19934\n",
      "weighted avg       0.76      0.65      0.69     19934\n",
      "\n"
     ]
    }
   ],
   "source": [
    "print(classification_report(df['target'].values,pred))"
   ]
  },
  {
   "cell_type": "code",
   "execution_count": 21,
   "metadata": {},
   "outputs": [
    {
     "name": "stdout",
     "output_type": "stream",
     "text": [
      "[[12166  5090]\n",
      " [ 1974   704]]\n"
     ]
    }
   ],
   "source": [
    "print(confusion_matrix(df['target'].values,pred))"
   ]
  },
  {
   "cell_type": "markdown",
   "metadata": {},
   "source": [
    "## without tokenizing"
   ]
  },
  {
   "cell_type": "code",
   "execution_count": 25,
   "metadata": {},
   "outputs": [],
   "source": [
    "pred = []\n",
    "for text in df['text'].values:\n",
    "    test = model.detect_sexual_harassment(text)\n",
    "    pred.append(test)"
   ]
  },
  {
   "cell_type": "code",
   "execution_count": 26,
   "metadata": {},
   "outputs": [
    {
     "name": "stdout",
     "output_type": "stream",
     "text": [
      "              precision    recall  f1-score   support\n",
      "\n",
      "       False       0.87      1.00      0.93     17256\n",
      "        True       0.00      0.00      0.00      2678\n",
      "\n",
      "    accuracy                           0.87     19934\n",
      "   macro avg       0.43      0.50      0.46     19934\n",
      "weighted avg       0.75      0.87      0.80     19934\n",
      "\n"
     ]
    },
    {
     "name": "stderr",
     "output_type": "stream",
     "text": [
      "/home/shaury/.local/lib/python3.8/site-packages/sklearn/metrics/_classification.py:1318: UndefinedMetricWarning: Precision and F-score are ill-defined and being set to 0.0 in labels with no predicted samples. Use `zero_division` parameter to control this behavior.\n",
      "  _warn_prf(average, modifier, msg_start, len(result))\n",
      "/home/shaury/.local/lib/python3.8/site-packages/sklearn/metrics/_classification.py:1318: UndefinedMetricWarning: Precision and F-score are ill-defined and being set to 0.0 in labels with no predicted samples. Use `zero_division` parameter to control this behavior.\n",
      "  _warn_prf(average, modifier, msg_start, len(result))\n",
      "/home/shaury/.local/lib/python3.8/site-packages/sklearn/metrics/_classification.py:1318: UndefinedMetricWarning: Precision and F-score are ill-defined and being set to 0.0 in labels with no predicted samples. Use `zero_division` parameter to control this behavior.\n",
      "  _warn_prf(average, modifier, msg_start, len(result))\n"
     ]
    }
   ],
   "source": [
    "print(classification_report(df['target'].values,pred))"
   ]
  },
  {
   "cell_type": "code",
   "execution_count": 27,
   "metadata": {},
   "outputs": [
    {
     "name": "stdout",
     "output_type": "stream",
     "text": [
      "[[17256     0]\n",
      " [ 2678     0]]\n"
     ]
    }
   ],
   "source": [
    "print(confusion_matrix(df['target'].values,pred))"
   ]
  },
  {
   "cell_type": "markdown",
   "metadata": {},
   "source": [
    "## model performance not good."
   ]
  }
 ],
 "metadata": {
  "kernelspec": {
   "display_name": "Python 3",
   "language": "python",
   "name": "python3"
  },
  "language_info": {
   "codemirror_mode": {
    "name": "ipython",
    "version": 3
   },
   "file_extension": ".py",
   "mimetype": "text/x-python",
   "name": "python",
   "nbconvert_exporter": "python",
   "pygments_lexer": "ipython3",
   "version": "3.8.10"
  }
 },
 "nbformat": 4,
 "nbformat_minor": 4
}
