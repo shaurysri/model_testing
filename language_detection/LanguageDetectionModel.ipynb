{
  "nbformat": 4,
  "nbformat_minor": 0,
  "metadata": {
    "colab": {
      "name": "LanguageDetectionModel.ipynb",
      "provenance": [],
      "collapsed_sections": []
    },
    "kernelspec": {
      "name": "python3",
      "display_name": "Python 3"
    },
    "language_info": {
      "name": "python"
    },
    "accelerator": "GPU"
  },
  "cells": [
    {
      "cell_type": "code",
      "source": [
        "!pip install spacy\n",
        "!pip install spacy_langdetect"
      ],
      "metadata": {
        "id": "zfEYxAPAcUKQ"
      },
      "execution_count": null,
      "outputs": []
    },
    {
      "cell_type": "code",
      "source": [
        "language_detect_dict = {'aa':'Afar','ab':'Abkhazian','af':'Afrikaans','ak':'Akan','sq':'Albanian','am':'Amharic','ar':'Arabic',\n",
        "'an':'Aragonese','hy':'Armenian','as':'Assamese','av':'Avaric','ae':'Avestan','ay':'Aymara','az':'Azerbaijani','ba':'Bashkir',\n",
        "'bm':'Bambara','eu':'Basque','be':'Belarusian','bn':'Bengali','bh':'Bihari','bi':'Bislama','bo':'Tibetan','bs':'Bosnian',\n",
        "'br':'Breton','bg':'Bulgarian','my':'Burmese','ca':'Catalan','cs':'Czech','ch':'Chamorro','ce':'Chechen','zh':'Chinese',\n",
        "'cu':'Church Slavic','cv':'Chuvash','kw':'Cornish','co':'Corsican',\n",
        "'cr':'Cree','cy':'Welsh','cs':'Czech','da':'Danish','de':'German','dv':'Divehi','nl':'Dutch','dz':'Dzongkha',\n",
        "'el':'Greek-Modern (1453-)','en':'English','eo':'Esperanto','et':'Estonian','eu':'Basque','ee':'Ewe','fo':'Faroese','fa':'Persian',\n",
        "'fj':'Fijian','fi':'Finnish','fr':'French','fy':'Western Frisian','ff':'Fulah','Ga':'Georgian','gd':'Gaelic','ga':'Irish',\n",
        "'gl':'Galician','gv':'Manx','el':'Greek-Modern (1453-)','gn':'Guarani','gu':'Gujarati','ht':'Haitian','ha':'Hausa',\n",
        "'he':'Hebrew','hz':'Herero','hi':'Hindi','ho':'Hiri Motu','hr':'Croatian','hu':'Hungarian','hy':'Armenian','ig':'Igbo','is':'Icelandic',\n",
        "'io':'Ido','ii':'Sichuan Yi; Nuosu','iu':'Inuktitut','ie':'Interlingue',\n",
        "'ia':'Interlingua (International Auxiliary Language Association)','id':'Indonesian','ik':'Inupiaq','is':'Icelandic','it':'Italian',\n",
        "'jv':'Javanese','ja':'Japanese','kl':'Kalaallisut','kn':'Kannada','ks':'Kashmiri','ka':'Georgian','kr':'Kanuri','kk':'Kazakh',\n",
        "'km':'Central Khmer','ki':'Kikuyu; Gikuyu','rw':'Kinyarwanda','ky':'Kirghiz','kv':'Komi','kg':'Kongo','ko':'Korean',\n",
        "'kj':'Kuanyama','ku':'Kurdish','lo':'Lao','la':'Latin','lv':'Latvian','li':'Limburgan','ln':'Lingala',\n",
        "'lt':'Lithuanian','lb':'Luxembourgish; Letzeburgesch','lu':'Luba-Katanga','lg':'Ganda','mk':'Macedonian','mh':'Marshallese',\n",
        "'ml':'Malayalam','mi':'Maori','mr':'Marathi','ms':'Malay','Mi':'Micmac','mk':'Macedonian','mg':'Malagasy','mt':'Maltese',\n",
        "'mn':'Mongolian','mi':'Maori','ms':'Malay','my':'Burmese','na':'Nauru','nv':'Navajo; Navaho','nr':'Ndebele-South; South Ndebele',\n",
        "'nd':'Ndebele-North; North Ndebele','ng':'Ndonga','ne':'Nepali','nl':'Dutch','nn':'Norwegian Nynorsk; Nynorsk:Norwegian',\n",
        "'nb':'Bokmål-Norwegian; Norwegian Bokmål','no':'Norwegian','oc':'Occitan (post 1500)','oj':'Ojibwa','or':'Oriya','om':'Oromo',\n",
        "'os':'Ossetian; Ossetic','pa':'Panjabi; Punjabi','fa':'Persian','pi':'Pali','pl':'Polish','pt':'Portugeese','ps':'Pushto; Pashto',\n",
        "'qu':'Quechua','rm':'Romansh','ro':'Romanian','rn':'Rundi','ru':'Russian','sg':'Sango','sa':'Sanskrit',\n",
        "'si':'Sinhalese','sk':'Slovak','sk':'Slovak','sl':'Slovenian','se':'Northern Sami','sm':'Samoan','sn':'Shona','sd':'Sindhi',\n",
        "'so':'Somali','st':'Sotho-Southern','es':'Spanish','sq':'Albanian','sc':'Sardinian','sr':'Serbian','ss':'Swati',\n",
        "'su':'Sundanese','sw':'Swahili','sv':'Sweedish','ty':'Tahitian','ta':'Tamil','tt':'Tatar','te':'Telugu','tg':'Tajik','tl':'Tagalog',\n",
        "'th':'Thai','bo':'Tibetan','ti':'Tigrinya','to':'Tonga (Tonga Islands)','tn':'Tswana','ts':'Tsonga','tk':'Turkmen','tr':'Turkish',\n",
        "'tw':'Twi','ug':'Uighur; Uyghur','uk':'Ukrainian','ur':'Urdu','uz':'Uzbek','ve':'Venda','vi':'Vietnamese','vo':'Volapük','cy':'Welsh',\n",
        "'wa':'Walloon','wo':'Wolof','xh':'Xhosa','yi':'Yiddish','yo':'Yoruba','za':'Zhuang; Chuang','zh':'Chinese','zu':'Zulu'}"
      ],
      "metadata": {
        "id": "DuI_3mLndRuA"
      },
      "execution_count": 45,
      "outputs": []
    },
    {
      "cell_type": "code",
      "source": [
        "import spacy\n",
        "from spacy.language import Language\n",
        "from spacy_langdetect import LanguageDetector\n",
        "\n",
        "\n",
        "class language_detector:\n",
        "    def __init__(self):  \n",
        "        self.nlp = spacy.load('en')\n",
        "        self.nlp.max_length = 2000000\n",
        "        self.nlp.add_pipe(LanguageDetector(), name='language_detector', last=True)\n",
        "\n",
        "    def detect_lang(self,text):\n",
        "        doc = self.nlp(text)\n",
        "        detect_language = doc._.language\n",
        "        return detect_language\n",
        "\n",
        "\n",
        "    def map_lang_name(self,language):\n",
        "        try:\n",
        "            language_map = language_detect_dict\n",
        "            lang_full_form = language_map[language['language']]\n",
        "            lang_details = {'language_code': language['language'],\n",
        "                    'language': lang_full_form,\n",
        "                    'score': round(language['score'], 3)}\n",
        "            return lang_details\n",
        "        except:\n",
        "            return {'language_code': 'uknown',\n",
        "                    'language': 'not_known',\n",
        "                    'score': 0}\n",
        "\n",
        "\n",
        "if __name__ == \"__main__\":\n",
        "    text_content = \"Er lebt mit seinen Eltern und seiner Schwester in Berlin.\"\n",
        "    model = language_detector()\n",
        "    language = model.detect_lang(text_content)\n",
        "    print(\"Score from spacy:\", language)\n",
        "    lang_details = model.map_lang_name(language)\n",
        "    print(\"Language detected:\", lang_details)"
      ],
      "metadata": {
        "colab": {
          "base_uri": "https://localhost:8080/"
        },
        "id": "JB-BZy8BcSTQ",
        "outputId": "68153829-5cc6-4f73-bd6e-b1e8c7b03cdd"
      },
      "execution_count": 46,
      "outputs": [
        {
          "output_type": "stream",
          "name": "stdout",
          "text": [
            "Score from spacy: {'language': 'de', 'score': 0.9999962224008985}\n",
            "Language detected: {'language_code': 'de', 'language': 'German', 'score': 1.0}\n"
          ]
        }
      ]
    },
    {
      "cell_type": "code",
      "execution_count": 47,
      "metadata": {
        "id": "cy2G_yv6cMGz"
      },
      "outputs": [],
      "source": [
        "class GetLanguage():\n",
        "    def __init__(self):\n",
        "        self.model = language_detector()\n",
        "\n",
        "    def language_detection(self, text):\n",
        "        # Store language detection results\n",
        "        lang_results = []\n",
        "        language = self.model.detect_lang(text)\n",
        "        lang_results.append(self.model.map_lang_name(language))\n",
        "\n",
        "        # Flatten list of multiple lists into one\n",
        "        lang_results = [i for n, i in enumerate(lang_results) if i not in lang_results[n + 1:]]\n",
        "        if len(lang_results) > 0:\n",
        "            return {'lang_detected': lang_results}\n",
        "        else:\n",
        "            return {'lang_detected': None}"
      ]
    },
    {
      "cell_type": "code",
      "source": [
        "Model = GetLanguage()"
      ],
      "metadata": {
        "id": "Fq7zr2J7cNpM"
      },
      "execution_count": 48,
      "outputs": []
    },
    {
      "cell_type": "code",
      "source": [
        "Model.language_detection(\"This is a gun.\")['lang_detected'][0]['language']"
      ],
      "metadata": {
        "colab": {
          "base_uri": "https://localhost:8080/",
          "height": 35
        },
        "id": "46B8Owr_cOzl",
        "outputId": "f2a01ea7-0ec7-4986-cdc9-77ec0799a4dd"
      },
      "execution_count": 49,
      "outputs": [
        {
          "output_type": "execute_result",
          "data": {
            "text/plain": [
              "'English'"
            ],
            "application/vnd.google.colaboratory.intrinsic+json": {
              "type": "string"
            }
          },
          "metadata": {},
          "execution_count": 49
        }
      ]
    },
    {
      "cell_type": "code",
      "source": [
        "import pandas as pd\n",
        "import numpy as np"
      ],
      "metadata": {
        "id": "iAQxkSJIcOwy"
      },
      "execution_count": 16,
      "outputs": []
    },
    {
      "cell_type": "code",
      "source": [
        "df = pd.read_csv('/content/drive/MyDrive/dataset/Language Detection.csv')"
      ],
      "metadata": {
        "id": "NawhGL4zcOu1"
      },
      "execution_count": 20,
      "outputs": []
    },
    {
      "cell_type": "code",
      "source": [
        "df['Language'] = df['Language'].map(lambda x : x.strip().lower())"
      ],
      "metadata": {
        "id": "3StUBDnKcOss"
      },
      "execution_count": 33,
      "outputs": []
    },
    {
      "cell_type": "code",
      "source": [
        "df['Language'].unique()"
      ],
      "metadata": {
        "colab": {
          "base_uri": "https://localhost:8080/"
        },
        "id": "5qdRIJwJgJXn",
        "outputId": "28bbb9bf-5642-4b9c-b4ff-6a7fd0a68027"
      },
      "execution_count": 34,
      "outputs": [
        {
          "output_type": "execute_result",
          "data": {
            "text/plain": [
              "array(['english', 'malayalam', 'hindi', 'tamil', 'portugeese', 'french',\n",
              "       'dutch', 'spanish', 'greek', 'russian', 'danish', 'italian',\n",
              "       'turkish', 'sweedish', 'arabic', 'german', 'kannada'], dtype=object)"
            ]
          },
          "metadata": {},
          "execution_count": 34
        }
      ]
    },
    {
      "cell_type": "code",
      "source": [
        "pred = []\n",
        "for text in df['Text'].values:\n",
        "    pred.append(Model.language_detection(text)['lang_detected'][0]['language'].strip().lower())"
      ],
      "metadata": {
        "id": "9mQCF0CKcOqz"
      },
      "execution_count": 50,
      "outputs": []
    },
    {
      "cell_type": "code",
      "source": [
        "from sklearn.metrics import classification_report,confusion_matrix"
      ],
      "metadata": {
        "id": "NrOVS_Zve_w_"
      },
      "execution_count": 41,
      "outputs": []
    },
    {
      "cell_type": "code",
      "source": [
        "np.unique(pred)"
      ],
      "metadata": {
        "colab": {
          "base_uri": "https://localhost:8080/"
        },
        "id": "QCFgfQdmis1w",
        "outputId": "9d9a4a11-0d03-498c-8f1c-3685e1189a56"
      },
      "execution_count": 51,
      "outputs": [
        {
          "output_type": "execute_result",
          "data": {
            "text/plain": [
              "array(['afrikaans', 'albanian', 'arabic', 'bulgarian', 'catalan',\n",
              "       'croatian', 'czech', 'danish', 'dutch', 'english', 'estonian',\n",
              "       'finnish', 'french', 'german', 'greek-modern (1453-)', 'hindi',\n",
              "       'hungarian', 'indonesian', 'italian', 'kannada', 'latvian',\n",
              "       'lithuanian', 'macedonian', 'malayalam', 'marathi', 'norwegian',\n",
              "       'not_known', 'persian', 'polish', 'portugeese', 'romanian',\n",
              "       'russian', 'slovak', 'slovenian', 'somali', 'spanish', 'sweedish',\n",
              "       'tagalog', 'tamil', 'turkish', 'ukrainian', 'vietnamese', 'welsh'],\n",
              "      dtype='<U20')"
            ]
          },
          "metadata": {},
          "execution_count": 51
        }
      ]
    },
    {
      "cell_type": "code",
      "source": [
        "print(classification_report(df['Language'].values,pred))"
      ],
      "metadata": {
        "colab": {
          "base_uri": "https://localhost:8080/"
        },
        "id": "4XXaelIvgWMS",
        "outputId": "a330e873-d692-40ad-ebe1-17a378166a0a"
      },
      "execution_count": 52,
      "outputs": [
        {
          "output_type": "stream",
          "name": "stdout",
          "text": [
            "                      precision    recall  f1-score   support\n",
            "\n",
            "           afrikaans       0.00      0.00      0.00         0\n",
            "            albanian       0.00      0.00      0.00         0\n",
            "              arabic       1.00      0.99      1.00       536\n",
            "           bulgarian       0.00      0.00      0.00         0\n",
            "             catalan       0.00      0.00      0.00         0\n",
            "            croatian       0.00      0.00      0.00         0\n",
            "               czech       0.00      0.00      0.00         0\n",
            "              danish       0.94      0.84      0.89       428\n",
            "               dutch       0.97      0.86      0.92       546\n",
            "             english       0.99      0.96      0.97      1385\n",
            "            estonian       0.00      0.00      0.00         0\n",
            "             finnish       0.00      0.00      0.00         0\n",
            "              french       0.98      0.97      0.98      1014\n",
            "              german       0.98      0.95      0.97       470\n",
            "               greek       0.00      0.00      0.00       365\n",
            "greek-modern (1453-)       0.00      0.00      0.00         0\n",
            "               hindi       1.00      0.98      0.99        63\n",
            "           hungarian       0.00      0.00      0.00         0\n",
            "          indonesian       0.00      0.00      0.00         0\n",
            "             italian       0.97      0.96      0.96       698\n",
            "             kannada       1.00      1.00      1.00       369\n",
            "             latvian       0.00      0.00      0.00         0\n",
            "          lithuanian       0.00      0.00      0.00         0\n",
            "          macedonian       0.00      0.00      0.00         0\n",
            "           malayalam       1.00      1.00      1.00       594\n",
            "             marathi       0.00      0.00      0.00         0\n",
            "           norwegian       0.00      0.00      0.00         0\n",
            "           not_known       0.00      0.00      0.00         0\n",
            "             persian       0.00      0.00      0.00         0\n",
            "              polish       0.00      0.00      0.00         0\n",
            "          portugeese       0.96      0.96      0.96       739\n",
            "            romanian       0.00      0.00      0.00         0\n",
            "             russian       1.00      0.95      0.97       692\n",
            "              slovak       0.00      0.00      0.00         0\n",
            "           slovenian       0.00      0.00      0.00         0\n",
            "              somali       0.00      0.00      0.00         0\n",
            "             spanish       0.98      0.93      0.96       819\n",
            "            sweedish       0.99      0.94      0.96       676\n",
            "             tagalog       0.00      0.00      0.00         0\n",
            "               tamil       1.00      1.00      1.00       469\n",
            "             turkish       1.00      0.96      0.98       474\n",
            "           ukrainian       0.00      0.00      0.00         0\n",
            "          vietnamese       0.00      0.00      0.00         0\n",
            "               welsh       0.00      0.00      0.00         0\n",
            "\n",
            "            accuracy                           0.92     10337\n",
            "           macro avg       0.36      0.35      0.35     10337\n",
            "        weighted avg       0.95      0.92      0.93     10337\n",
            "\n"
          ]
        },
        {
          "output_type": "stream",
          "name": "stderr",
          "text": [
            "/usr/local/lib/python3.7/dist-packages/sklearn/metrics/_classification.py:1318: UndefinedMetricWarning: Precision and F-score are ill-defined and being set to 0.0 in labels with no predicted samples. Use `zero_division` parameter to control this behavior.\n",
            "  _warn_prf(average, modifier, msg_start, len(result))\n",
            "/usr/local/lib/python3.7/dist-packages/sklearn/metrics/_classification.py:1318: UndefinedMetricWarning: Recall and F-score are ill-defined and being set to 0.0 in labels with no true samples. Use `zero_division` parameter to control this behavior.\n",
            "  _warn_prf(average, modifier, msg_start, len(result))\n",
            "/usr/local/lib/python3.7/dist-packages/sklearn/metrics/_classification.py:1318: UndefinedMetricWarning: Precision and F-score are ill-defined and being set to 0.0 in labels with no predicted samples. Use `zero_division` parameter to control this behavior.\n",
            "  _warn_prf(average, modifier, msg_start, len(result))\n",
            "/usr/local/lib/python3.7/dist-packages/sklearn/metrics/_classification.py:1318: UndefinedMetricWarning: Recall and F-score are ill-defined and being set to 0.0 in labels with no true samples. Use `zero_division` parameter to control this behavior.\n",
            "  _warn_prf(average, modifier, msg_start, len(result))\n",
            "/usr/local/lib/python3.7/dist-packages/sklearn/metrics/_classification.py:1318: UndefinedMetricWarning: Precision and F-score are ill-defined and being set to 0.0 in labels with no predicted samples. Use `zero_division` parameter to control this behavior.\n",
            "  _warn_prf(average, modifier, msg_start, len(result))\n",
            "/usr/local/lib/python3.7/dist-packages/sklearn/metrics/_classification.py:1318: UndefinedMetricWarning: Recall and F-score are ill-defined and being set to 0.0 in labels with no true samples. Use `zero_division` parameter to control this behavior.\n",
            "  _warn_prf(average, modifier, msg_start, len(result))\n"
          ]
        }
      ]
    },
    {
      "cell_type": "code",
      "source": [
        "print(confusion_matrix(df['Language'].values,pred))"
      ],
      "metadata": {
        "colab": {
          "base_uri": "https://localhost:8080/"
        },
        "id": "rru9L4_Ue_ul",
        "outputId": "11a60abd-8a79-40e1-adbb-5b0568e63895"
      },
      "execution_count": 54,
      "outputs": [
        {
          "output_type": "stream",
          "name": "stdout",
          "text": [
            "[[  0   0   0 ...   0   0   0]\n",
            " [  0   0   0 ...   0   0   0]\n",
            " [  0   0 533 ...   0   0   0]\n",
            " ...\n",
            " [  0   0   0 ...   0   0   0]\n",
            " [  0   0   0 ...   0   0   0]\n",
            " [  0   0   0 ...   0   0   0]]\n"
          ]
        }
      ]
    },
    {
      "cell_type": "code",
      "source": [
        ""
      ],
      "metadata": {
        "id": "vK0w1it7e_sV"
      },
      "execution_count": null,
      "outputs": []
    },
    {
      "cell_type": "code",
      "source": [
        ""
      ],
      "metadata": {
        "id": "OC4p7X4oe_p4"
      },
      "execution_count": null,
      "outputs": []
    },
    {
      "cell_type": "code",
      "source": [
        ""
      ],
      "metadata": {
        "id": "cJAOYyeUe_nv"
      },
      "execution_count": null,
      "outputs": []
    }
  ]
}